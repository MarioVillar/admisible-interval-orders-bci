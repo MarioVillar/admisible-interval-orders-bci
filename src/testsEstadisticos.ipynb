{
 "cells": [
  {
   "cell_type": "code",
   "execution_count": 1,
   "metadata": {},
   "outputs": [],
   "source": [
    "import pandas as pd\n",
    "import numpy as np\n",
    "from scipy import stats\n",
    "import scikit_posthocs as sp  # https://pypi.org/project/scikit-posthocs/\n",
    "import matplotlib.pyplot as plt\n",
    "import os\n",
    "\n",
    "import config\n",
    "from evaluation.eegbci_time_intvls import load_eegbci_time_intvls_results"
   ]
  },
  {
   "cell_type": "markdown",
   "metadata": {},
   "source": [
    "# Read results from both BCI datasets\n",
    "\n",
    "Each subject is going to be considered as a separate dataset in the Friedman test.\n"
   ]
  },
  {
   "cell_type": "code",
   "execution_count": 4,
   "metadata": {},
   "outputs": [],
   "source": [
    "BNCI2014_001_res = pd.read_csv(f\"{config.DISK_PATH}/{os.getenv('BNCI2014_001_MAIN_RESULTS')}\")\n",
    "BNCI2014_001_res = BNCI2014_001_res[BNCI2014_001_res[\"session\"] == \"1test\"].reset_index(drop=True)\n",
    "\n",
    "eegbci_res = load_eegbci_time_intvls_results(f\"{config.DISK_PATH}/{os.getenv('EEGBCI_TIME_INTVLS_MAIN_RESULTS')}\")\n",
    "eegbci_res = eegbci_res[\n",
    "    eegbci_res[\"subject\"] <= eegbci_res[eegbci_res[\"pipeline\"] == \"IntvlChoquetEnsemble\"][\"subject\"].max()\n",
    "]"
   ]
  },
  {
   "cell_type": "code",
   "execution_count": 5,
   "metadata": {},
   "outputs": [],
   "source": [
    "models = BNCI2014_001_res.pipeline.unique()\n",
    "results_df = pd.DataFrame(columns=models)"
   ]
  },
  {
   "cell_type": "code",
   "execution_count": 6,
   "metadata": {},
   "outputs": [],
   "source": [
    "for subject in BNCI2014_001_res[\"subject\"].unique():\n",
    "    current_subj = BNCI2014_001_res[BNCI2014_001_res[\"subject\"] == subject]\n",
    "\n",
    "    results_df.loc[len(results_df.index)] = [\n",
    "        current_subj[current_subj[\"pipeline\"] == model][\"score\"].values[0] for model in models\n",
    "    ]"
   ]
  },
  {
   "cell_type": "code",
   "execution_count": 8,
   "metadata": {},
   "outputs": [],
   "source": [
    "for subject in eegbci_res[\"subject\"].unique():\n",
    "    current_subj = eegbci_res[eegbci_res[\"subject\"] == subject]\n",
    "\n",
    "    results_df.loc[len(results_df.index)] = [\n",
    "        np.mean(current_subj[current_subj[\"pipeline\"] == model][\"scores\"].values[0]) for model in models\n",
    "    ]"
   ]
  },
  {
   "cell_type": "code",
   "execution_count": 11,
   "metadata": {},
   "outputs": [
    {
     "data": {
      "text/html": [
       "<div>\n",
       "<style scoped>\n",
       "    .dataframe tbody tr th:only-of-type {\n",
       "        vertical-align: middle;\n",
       "    }\n",
       "\n",
       "    .dataframe tbody tr th {\n",
       "        vertical-align: top;\n",
       "    }\n",
       "\n",
       "    .dataframe thead th {\n",
       "        text-align: right;\n",
       "    }\n",
       "</style>\n",
       "<table border=\"1\" class=\"dataframe\">\n",
       "  <thead>\n",
       "    <tr style=\"text-align: right;\">\n",
       "      <th></th>\n",
       "      <th>IntvlChoquetEnsemble</th>\n",
       "      <th>CSP-LDA</th>\n",
       "      <th>IntvlChoquetEnsembleNBest</th>\n",
       "      <th>IntvlMeanEnsemble</th>\n",
       "      <th>IntvlSugenoEnsemble</th>\n",
       "    </tr>\n",
       "  </thead>\n",
       "  <tbody>\n",
       "    <tr>\n",
       "      <th>0</th>\n",
       "      <td>0.973810</td>\n",
       "      <td>0.968231</td>\n",
       "      <td>0.974898</td>\n",
       "      <td>0.974898</td>\n",
       "      <td>0.967823</td>\n",
       "    </tr>\n",
       "    <tr>\n",
       "      <th>1</th>\n",
       "      <td>0.701497</td>\n",
       "      <td>0.535238</td>\n",
       "      <td>0.695782</td>\n",
       "      <td>0.696327</td>\n",
       "      <td>0.627449</td>\n",
       "    </tr>\n",
       "    <tr>\n",
       "      <th>2</th>\n",
       "      <td>0.994286</td>\n",
       "      <td>0.997143</td>\n",
       "      <td>0.994286</td>\n",
       "      <td>0.993333</td>\n",
       "      <td>0.975238</td>\n",
       "    </tr>\n",
       "    <tr>\n",
       "      <th>3</th>\n",
       "      <td>0.837959</td>\n",
       "      <td>0.866054</td>\n",
       "      <td>0.838027</td>\n",
       "      <td>0.844830</td>\n",
       "      <td>0.809320</td>\n",
       "    </tr>\n",
       "    <tr>\n",
       "      <th>4</th>\n",
       "      <td>0.731429</td>\n",
       "      <td>0.655170</td>\n",
       "      <td>0.736259</td>\n",
       "      <td>0.745850</td>\n",
       "      <td>0.692245</td>\n",
       "    </tr>\n",
       "  </tbody>\n",
       "</table>\n",
       "</div>"
      ],
      "text/plain": [
       "   IntvlChoquetEnsemble   CSP-LDA  IntvlChoquetEnsembleNBest  \\\n",
       "0              0.973810  0.968231                   0.974898   \n",
       "1              0.701497  0.535238                   0.695782   \n",
       "2              0.994286  0.997143                   0.994286   \n",
       "3              0.837959  0.866054                   0.838027   \n",
       "4              0.731429  0.655170                   0.736259   \n",
       "\n",
       "   IntvlMeanEnsemble  IntvlSugenoEnsemble  \n",
       "0           0.974898             0.967823  \n",
       "1           0.696327             0.627449  \n",
       "2           0.993333             0.975238  \n",
       "3           0.844830             0.809320  \n",
       "4           0.745850             0.692245  "
      ]
     },
     "execution_count": 11,
     "metadata": {},
     "output_type": "execute_result"
    }
   ],
   "source": [
    "results_df.head()"
   ]
  },
  {
   "cell_type": "markdown",
   "metadata": {},
   "source": [
    "## Friedman testing\n",
    "\n",
    "Non parametric test to check if there is a difference in means between the groups (classifiers)\n"
   ]
  },
  {
   "cell_type": "code",
   "execution_count": 13,
   "metadata": {},
   "outputs": [
    {
     "name": "stdout",
     "output_type": "stream",
     "text": [
      "Should we reject H0 (i.e. is there a difference in the means) at the 95.0 % confidence level? -> True\n"
     ]
    }
   ],
   "source": [
    "alpha = 0.05  # Set this to the desired alpha/signifance level\n",
    "\n",
    "stat, p = stats.friedmanchisquare(*np.asarray(results_df))\n",
    "\n",
    "reject = p <= alpha\n",
    "print(\n",
    "    \"Should we reject H0 (i.e. is there a difference in the means) at the\",\n",
    "    (1 - alpha) * 100,\n",
    "    \"% confidence level? ->\",\n",
    "    reject,\n",
    ")"
   ]
  },
  {
   "cell_type": "markdown",
   "metadata": {},
   "source": [
    "### Post Hoc Analysis\n",
    "\n",
    "See [Statistical Comparisons of Classifiers over Multiple Data Sets](http://citeseerx.ist.psu.edu/viewdoc/download?doi=10.1.1.141.3142&rep=rep1&type=pdf) for more detail\n"
   ]
  },
  {
   "cell_type": "code",
   "execution_count": 14,
   "metadata": {},
   "outputs": [],
   "source": [
    "# At this point, we should only continue if H0 was rejected\n",
    "if not reject:\n",
    "    raise Exception(\n",
    "        \"Exiting early. The rankings are only relevant if there was a difference in the means i.e. if we rejected h0 above\"\n",
    "    )"
   ]
  },
  {
   "cell_type": "code",
   "execution_count": 15,
   "metadata": {},
   "outputs": [],
   "source": [
    "# Helper functions for performing the statistical tests\n",
    "def generate_scores(method, method_args, data, labels):\n",
    "    pairwise_scores = method(data, **method_args)  # Matrix for all pairwise comaprisons\n",
    "    pairwise_scores.set_axis(labels, axis=\"columns\", inplace=True)  # Label the cols\n",
    "    pairwise_scores.set_axis(\n",
    "        labels, axis=\"rows\", inplace=True\n",
    "    )  # Label the rows, note: same label as pairwise combinations\n",
    "    return pairwise_scores\n",
    "\n",
    "\n",
    "def plot(scores):\n",
    "    # Pretty plot of significance\n",
    "    heatmap_args = {\"linewidths\": 0.25, \"linecolor\": \"0.5\", \"square\": True, \"cbar_ax_bbox\": [0.80, 0.35, 0.04, 0.3]}\n",
    "\n",
    "    sp.sign_plot(scores, **heatmap_args)"
   ]
  },
  {
   "cell_type": "markdown",
   "metadata": {},
   "source": [
    "#### Nemenyi Test\n",
    "\n",
    "Note: This is relevant when you would like to compare various methods.\n",
    "For example if you propose several methods and want to compare them all against each\n",
    "other, or to do an exhaustive comparison against several method. Often this is not\n",
    "what we want, as we propose only one method (instead see Bonferoni below), and this would\n",
    "be overconservativew.\n"
   ]
  },
  {
   "cell_type": "code",
   "execution_count": 16,
   "metadata": {},
   "outputs": [
    {
     "name": "stderr",
     "output_type": "stream",
     "text": [
      "C:\\Users\\villarmario\\AppData\\Local\\Temp\\ipykernel_15656\\724679618.py:4: FutureWarning: DataFrame.set_axis 'inplace' keyword is deprecated and will be removed in a future version. Use `obj = obj.set_axis(..., copy=False)` instead\n",
      "  pairwise_scores.set_axis(labels, axis=\"columns\", inplace=True)  # Label the cols\n",
      "C:\\Users\\villarmario\\AppData\\Local\\Temp\\ipykernel_15656\\724679618.py:5: FutureWarning: DataFrame.set_axis 'inplace' keyword is deprecated and will be removed in a future version. Use `obj = obj.set_axis(..., copy=False)` instead\n",
      "  pairwise_scores.set_axis(\n"
     ]
    }
   ],
   "source": [
    "nemenyi_scores = generate_scores(sp.posthoc_nemenyi_friedman, {}, np.asarray(results_df), results_df.columns)"
   ]
  },
  {
   "cell_type": "code",
   "execution_count": 18,
   "metadata": {},
   "outputs": [
    {
     "data": {
      "text/html": [
       "<div>\n",
       "<style scoped>\n",
       "    .dataframe tbody tr th:only-of-type {\n",
       "        vertical-align: middle;\n",
       "    }\n",
       "\n",
       "    .dataframe tbody tr th {\n",
       "        vertical-align: top;\n",
       "    }\n",
       "\n",
       "    .dataframe thead th {\n",
       "        text-align: right;\n",
       "    }\n",
       "</style>\n",
       "<table border=\"1\" class=\"dataframe\">\n",
       "  <thead>\n",
       "    <tr style=\"text-align: right;\">\n",
       "      <th></th>\n",
       "      <th>IntvlChoquetEnsemble</th>\n",
       "      <th>CSP-LDA</th>\n",
       "      <th>IntvlChoquetEnsembleNBest</th>\n",
       "      <th>IntvlMeanEnsemble</th>\n",
       "      <th>IntvlSugenoEnsemble</th>\n",
       "    </tr>\n",
       "  </thead>\n",
       "  <tbody>\n",
       "    <tr>\n",
       "      <th>IntvlChoquetEnsemble</th>\n",
       "      <td>1.000000</td>\n",
       "      <td>0.900000</td>\n",
       "      <td>0.900000</td>\n",
       "      <td>0.900000</td>\n",
       "      <td>0.085509</td>\n",
       "    </tr>\n",
       "    <tr>\n",
       "      <th>CSP-LDA</th>\n",
       "      <td>0.900000</td>\n",
       "      <td>1.000000</td>\n",
       "      <td>0.900000</td>\n",
       "      <td>0.900000</td>\n",
       "      <td>0.025068</td>\n",
       "    </tr>\n",
       "    <tr>\n",
       "      <th>IntvlChoquetEnsembleNBest</th>\n",
       "      <td>0.900000</td>\n",
       "      <td>0.900000</td>\n",
       "      <td>1.000000</td>\n",
       "      <td>0.900000</td>\n",
       "      <td>0.111801</td>\n",
       "    </tr>\n",
       "    <tr>\n",
       "      <th>IntvlMeanEnsemble</th>\n",
       "      <td>0.900000</td>\n",
       "      <td>0.900000</td>\n",
       "      <td>0.900000</td>\n",
       "      <td>1.000000</td>\n",
       "      <td>0.151149</td>\n",
       "    </tr>\n",
       "    <tr>\n",
       "      <th>IntvlSugenoEnsemble</th>\n",
       "      <td>0.085509</td>\n",
       "      <td>0.025068</td>\n",
       "      <td>0.111801</td>\n",
       "      <td>0.151149</td>\n",
       "      <td>1.000000</td>\n",
       "    </tr>\n",
       "  </tbody>\n",
       "</table>\n",
       "</div>"
      ],
      "text/plain": [
       "                           IntvlChoquetEnsemble   CSP-LDA  \\\n",
       "IntvlChoquetEnsemble                   1.000000  0.900000   \n",
       "CSP-LDA                                0.900000  1.000000   \n",
       "IntvlChoquetEnsembleNBest              0.900000  0.900000   \n",
       "IntvlMeanEnsemble                      0.900000  0.900000   \n",
       "IntvlSugenoEnsemble                    0.085509  0.025068   \n",
       "\n",
       "                           IntvlChoquetEnsembleNBest  IntvlMeanEnsemble  \\\n",
       "IntvlChoquetEnsemble                        0.900000           0.900000   \n",
       "CSP-LDA                                     0.900000           0.900000   \n",
       "IntvlChoquetEnsembleNBest                   1.000000           0.900000   \n",
       "IntvlMeanEnsemble                           0.900000           1.000000   \n",
       "IntvlSugenoEnsemble                         0.111801           0.151149   \n",
       "\n",
       "                           IntvlSugenoEnsemble  \n",
       "IntvlChoquetEnsemble                  0.085509  \n",
       "CSP-LDA                               0.025068  \n",
       "IntvlChoquetEnsembleNBest             0.111801  \n",
       "IntvlMeanEnsemble                     0.151149  \n",
       "IntvlSugenoEnsemble                   1.000000  "
      ]
     },
     "execution_count": 18,
     "metadata": {},
     "output_type": "execute_result"
    }
   ],
   "source": [
    "# Shows the p values for each pair\n",
    "nemenyi_scores"
   ]
  },
  {
   "cell_type": "code",
   "execution_count": 19,
   "metadata": {},
   "outputs": [
    {
     "data": {
      "image/png": "[encoded data removed]",
      "text/plain": [
       "<Figure size 640x480 with 2 Axes>"
      ]
     },
     "metadata": {},
     "output_type": "display_data"
    }
   ],
   "source": [
    "plot(nemenyi_scores)  # NS = non-significant differences"
   ]
  }
 ],
 "metadata": {
  "kernelspec": {
   "display_name": "Python 3",
   "language": "python",
   "name": "python3"
  },
  "language_info": {
   "codemirror_mode": {
    "name": "ipython",
    "version": 3
   },
   "file_extension": ".py",
   "mimetype": "text/x-python",
   "name": "python",
   "nbconvert_exporter": "python",
   "pygments_lexer": "ipython3",
   "version": "3.11.5"
  }
 },
 "nbformat": 4,
 "nbformat_minor": 2
}
